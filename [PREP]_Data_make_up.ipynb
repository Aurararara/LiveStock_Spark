{
  "nbformat": 4,
  "nbformat_minor": 0,
  "metadata": {
    "colab": {
      "name": "[PREP] Data_make_up.ipynb",
      "provenance": [],
      "machine_shape": "hm",
      "collapsed_sections": [],
      "mount_file_id": "1gw089afBjLVJ1QNePDwYIZIxIJ57fSkP",
      "authorship_tag": "ABX9TyPECcca2DkyER3yPmlhpe6u",
      "include_colab_link": true
    },
    "kernelspec": {
      "name": "python3",
      "display_name": "Python 3"
    },
    "language_info": {
      "name": "python"
    },
    "accelerator": "GPU"
  },
  "cells": [
    {
      "cell_type": "markdown",
      "metadata": {
        "id": "view-in-github",
        "colab_type": "text"
      },
      "source": [
        "<a href=\"https://colab.research.google.com/github/kikiru328/LiveStock_Spark/blob/main/%5BPREP%5D_Data_make_up.ipynb\" target=\"_parent\"><img src=\"https://colab.research.google.com/assets/colab-badge.svg\" alt=\"Open In Colab\"/></a>"
      ]
    },
    {
      "cell_type": "code",
      "execution_count": 1,
      "metadata": {
        "id": "s7OTTmAcRPUB"
      },
      "outputs": [],
      "source": [
        "import shutil \n",
        "import os\n",
        "import zipfile\n",
        "from glob import glob\n",
        "from tqdm import tqdm"
      ]
    },
    {
      "cell_type": "code",
      "source": [
        "raw_path = '/content/drive/MyDrive/Innopolis_spark/data/Raw_data/가축 행동 영상'"
      ],
      "metadata": {
        "id": "g8svVL8NR4rQ"
      },
      "execution_count": 2,
      "outputs": []
    },
    {
      "cell_type": "code",
      "source": [
        "Training = raw_path+'/Training'\n",
        "Validation = raw_path+'/Validation'"
      ],
      "metadata": {
        "id": "LEjtdIqbSArh"
      },
      "execution_count": 3,
      "outputs": []
    },
    {
      "cell_type": "code",
      "source": [
        "Training"
      ],
      "metadata": {
        "colab": {
          "base_uri": "https://localhost:8080/",
          "height": 34
        },
        "id": "_8WdRrOc-yKB",
        "outputId": "498f25e3-28b6-48e1-c189-a35a9d496c59"
      },
      "execution_count": 4,
      "outputs": [
        {
          "output_type": "execute_result",
          "data": {
            "application/vnd.google.colaboratory.intrinsic+json": {
              "type": "string"
            },
            "text/plain": [
              "'/content/drive/MyDrive/Innopolis_spark/data/Raw_data/가축 행동 영상/Training'"
            ]
          },
          "metadata": {},
          "execution_count": 4
        }
      ]
    },
    {
      "cell_type": "code",
      "source": [
        "training_zips = glob(Training+'/*.zip')\n",
        "validation_zips = glob(Validation+'/*.zip')"
      ],
      "metadata": {
        "id": "WLghP3svSBGz"
      },
      "execution_count": 5,
      "outputs": []
    },
    {
      "cell_type": "code",
      "source": [
        "training_zips = sorted(training_zips) \n",
        "training_zips"
      ],
      "metadata": {
        "colab": {
          "base_uri": "https://localhost:8080/"
        },
        "id": "qiCuzS3-TupP",
        "outputId": "3307905b-5af7-41d1-87b4-74b10888f43f"
      },
      "execution_count": 7,
      "outputs": [
        {
          "output_type": "execute_result",
          "data": {
            "text/plain": [
              "['/content/drive/MyDrive/Innopolis_spark/data/Raw_data/가축 행동 영상/Training/[라벨]닭_points.zip',\n",
              " '/content/drive/MyDrive/Innopolis_spark/data/Raw_data/가축 행동 영상/Training/[라벨]돼지_bbox.zip',\n",
              " '/content/drive/MyDrive/Innopolis_spark/data/Raw_data/가축 행동 영상/Training/[라벨]돼지_keypoints.zip',\n",
              " '/content/drive/MyDrive/Innopolis_spark/data/Raw_data/가축 행동 영상/Training/[라벨]소_bbox.zip',\n",
              " '/content/drive/MyDrive/Innopolis_spark/data/Raw_data/가축 행동 영상/Training/[라벨]소_keypoints.zip',\n",
              " '/content/drive/MyDrive/Innopolis_spark/data/Raw_data/가축 행동 영상/Training/[원천]닭_points.zip',\n",
              " '/content/drive/MyDrive/Innopolis_spark/data/Raw_data/가축 행동 영상/Training/[원천]돼지_bbox.zip',\n",
              " '/content/drive/MyDrive/Innopolis_spark/data/Raw_data/가축 행동 영상/Training/[원천]돼지_keypoints.zip',\n",
              " '/content/drive/MyDrive/Innopolis_spark/data/Raw_data/가축 행동 영상/Training/[원천]소_bbox.zip',\n",
              " '/content/drive/MyDrive/Innopolis_spark/data/Raw_data/가축 행동 영상/Training/[원천]소_keypoints.zip']"
            ]
          },
          "metadata": {},
          "execution_count": 7
        }
      ]
    },
    {
      "cell_type": "code",
      "source": [
        "validation_zips = sorted(validation_zips)\n",
        "validation_zips"
      ],
      "metadata": {
        "colab": {
          "base_uri": "https://localhost:8080/"
        },
        "id": "N43VFcHgTzXW",
        "outputId": "7734071b-468d-4b69-9bd3-de9c5467ab23"
      },
      "execution_count": 8,
      "outputs": [
        {
          "output_type": "execute_result",
          "data": {
            "text/plain": [
              "['/content/drive/MyDrive/Innopolis_spark/data/Raw_data/가축 행동 영상/Validation/[라벨]닭_points.zip',\n",
              " '/content/drive/MyDrive/Innopolis_spark/data/Raw_data/가축 행동 영상/Validation/[라벨]돼지_bbox.zip',\n",
              " '/content/drive/MyDrive/Innopolis_spark/data/Raw_data/가축 행동 영상/Validation/[라벨]돼지_keypoints.zip',\n",
              " '/content/drive/MyDrive/Innopolis_spark/data/Raw_data/가축 행동 영상/Validation/[라벨]소_bbox.zip',\n",
              " '/content/drive/MyDrive/Innopolis_spark/data/Raw_data/가축 행동 영상/Validation/[라벨]소_keypoints.zip',\n",
              " '/content/drive/MyDrive/Innopolis_spark/data/Raw_data/가축 행동 영상/Validation/[원천]닭_points.zip',\n",
              " '/content/drive/MyDrive/Innopolis_spark/data/Raw_data/가축 행동 영상/Validation/[원천]돼지_bbox.zip',\n",
              " '/content/drive/MyDrive/Innopolis_spark/data/Raw_data/가축 행동 영상/Validation/[원천]돼지_keypoints.zip',\n",
              " '/content/drive/MyDrive/Innopolis_spark/data/Raw_data/가축 행동 영상/Validation/[원천]소_bbox.zip',\n",
              " '/content/drive/MyDrive/Innopolis_spark/data/Raw_data/가축 행동 영상/Validation/[원천]소_keypoints.zip']"
            ]
          },
          "metadata": {},
          "execution_count": 8
        }
      ]
    },
    {
      "cell_type": "code",
      "source": [
        "# training\n",
        "for zip in tqdm(training_zips):\n",
        "    with zipfile.ZipFile(zip,'r') as zip_ref:\n",
        "        zip_ref.extractall(zip.replace('/Raw_data/가축 행동 영상/Training/','/train/').replace('.zip',''))"
      ],
      "metadata": {
        "id": "PNSJFbHOT02K",
        "colab": {
          "base_uri": "https://localhost:8080/"
        },
        "outputId": "ac73cf64-d072-4969-c8e9-870fad7002f7"
      },
      "execution_count": 9,
      "outputs": [
        {
          "output_type": "stream",
          "name": "stderr",
          "text": [
            "100%|██████████| 10/10 [26:26<00:00, 158.69s/it]\n"
          ]
        }
      ]
    },
    {
      "cell_type": "code",
      "source": [
        "# validation\n",
        "for zip in tqdm(validation_zips):\n",
        "    with zipfile.ZipFile(zip,'r') as zip_ref:\n",
        "        zip_ref.extractall(zip.replace('/Raw_data/가축 행동 영상/Validation/','/val/').replace('.zip',''))"
      ],
      "metadata": {
        "id": "5dojrRqCUBBt",
        "colab": {
          "base_uri": "https://localhost:8080/"
        },
        "outputId": "22a1b10d-2e67-4cb9-ac95-3fad928b2917"
      },
      "execution_count": 10,
      "outputs": [
        {
          "output_type": "stream",
          "name": "stderr",
          "text": [
            "100%|██████████| 10/10 [02:21<00:00, 14.19s/it]\n"
          ]
        }
      ]
    },
    {
      "cell_type": "code",
      "source": [
        "train = glob('/content/drive/MyDrive/Innopolis_spark/data/train/*')\n",
        "train = sorted(train)\n",
        "train"
      ],
      "metadata": {
        "colab": {
          "base_uri": "https://localhost:8080/"
        },
        "id": "34INJbes1f_I",
        "outputId": "4d4c6384-6f36-46b5-b3b1-2bee7298d877"
      },
      "execution_count": 11,
      "outputs": [
        {
          "output_type": "execute_result",
          "data": {
            "text/plain": [
              "['/content/drive/MyDrive/Innopolis_spark/data/train/[라벨]닭_points',\n",
              " '/content/drive/MyDrive/Innopolis_spark/data/train/[라벨]돼지_bbox',\n",
              " '/content/drive/MyDrive/Innopolis_spark/data/train/[라벨]돼지_keypoints',\n",
              " '/content/drive/MyDrive/Innopolis_spark/data/train/[라벨]소_bbox',\n",
              " '/content/drive/MyDrive/Innopolis_spark/data/train/[라벨]소_keypoints',\n",
              " '/content/drive/MyDrive/Innopolis_spark/data/train/[원천]닭_points',\n",
              " '/content/drive/MyDrive/Innopolis_spark/data/train/[원천]돼지_bbox',\n",
              " '/content/drive/MyDrive/Innopolis_spark/data/train/[원천]돼지_keypoints',\n",
              " '/content/drive/MyDrive/Innopolis_spark/data/train/[원천]소_bbox',\n",
              " '/content/drive/MyDrive/Innopolis_spark/data/train/[원천]소_keypoints']"
            ]
          },
          "metadata": {},
          "execution_count": 11
        }
      ]
    },
    {
      "cell_type": "code",
      "source": [
        "!mkdir '/content/drive/MyDrive/Innopolis_spark/data/train/img'\n",
        "!mkdir '/content/drive/MyDrive/Innopolis_spark/data/train/label'"
      ],
      "metadata": {
        "id": "opD5qPYFQSaJ"
      },
      "execution_count": 12,
      "outputs": []
    },
    {
      "cell_type": "code",
      "source": [
        "try:\n",
        "    os.rename(train[0],train[0].replace('[라벨]닭_points','label/닭_points'))\n",
        "    os.rename(train[1],train[1].replace('[라벨]돼지_bbox','label/돼지_bbox'))\n",
        "    os.rename(train[2],train[2].replace('[라벨]돼지_keypoints','label/돼지_keypoints'))\n",
        "    os.rename(train[3],train[3].replace('[라벨]소_bbox','label/소_bbox'))\n",
        "    os.rename(train[4],train[4].replace('[라벨]소_keypoints','label/소_keypoints'))\n",
        "\n",
        "    os.rename(train[5],train[5].replace('[원천]닭_points','img/닭_points'))\n",
        "    os.rename(train[6],train[6].replace('[원천]돼지_bbox','img/돼지_bbox'))\n",
        "    os.rename(train[7],train[7].replace('[원천]돼지_keypoints','img/돼지_keypoints'))\n",
        "    os.rename(train[8],train[8].replace('[원천]소_bbox','img/소_bbox'))\n",
        "    os.rename(train[9],train[9].replace('[원천]소_keypoints','img/소_keypoints'))\n",
        "except Exception as e:\n",
        "    print(e)"
      ],
      "metadata": {
        "id": "5GR30jqF1h42"
      },
      "execution_count": 13,
      "outputs": []
    },
    {
      "cell_type": "code",
      "source": [
        "val = glob('/content/drive/MyDrive/Innopolis_spark/data/val/*')\n",
        "val = sorted(val)\n",
        "val"
      ],
      "metadata": {
        "colab": {
          "base_uri": "https://localhost:8080/"
        },
        "id": "70KNmsIHOiIG",
        "outputId": "42365a52-63ad-487a-bd16-b5eda89f82a1"
      },
      "execution_count": 14,
      "outputs": [
        {
          "output_type": "execute_result",
          "data": {
            "text/plain": [
              "['/content/drive/MyDrive/Innopolis_spark/data/val/[라벨]닭_points',\n",
              " '/content/drive/MyDrive/Innopolis_spark/data/val/[라벨]돼지_bbox',\n",
              " '/content/drive/MyDrive/Innopolis_spark/data/val/[라벨]돼지_keypoints',\n",
              " '/content/drive/MyDrive/Innopolis_spark/data/val/[라벨]소_bbox',\n",
              " '/content/drive/MyDrive/Innopolis_spark/data/val/[라벨]소_keypoints',\n",
              " '/content/drive/MyDrive/Innopolis_spark/data/val/[원천]닭_points',\n",
              " '/content/drive/MyDrive/Innopolis_spark/data/val/[원천]돼지_bbox',\n",
              " '/content/drive/MyDrive/Innopolis_spark/data/val/[원천]돼지_keypoints',\n",
              " '/content/drive/MyDrive/Innopolis_spark/data/val/[원천]소_bbox',\n",
              " '/content/drive/MyDrive/Innopolis_spark/data/val/[원천]소_keypoints']"
            ]
          },
          "metadata": {},
          "execution_count": 14
        }
      ]
    },
    {
      "cell_type": "code",
      "source": [
        "!mkdir '/content/drive/MyDrive/Innopolis_spark/data/val/img'\n",
        "!mkdir '/content/drive/MyDrive/Innopolis_spark/data/val/label'"
      ],
      "metadata": {
        "id": "fk43LdjxRItS"
      },
      "execution_count": 15,
      "outputs": []
    },
    {
      "cell_type": "code",
      "source": [
        "try:\n",
        "    os.rename(val[0],val[0].replace('[라벨]닭_points','label/닭_points'))\n",
        "    os.rename(val[1],val[1].replace('[라벨]돼지_bbox','label/돼지_bbox'))\n",
        "    os.rename(val[2],val[2].replace('[라벨]돼지_keypoints','label/돼지_keypoints'))\n",
        "    os.rename(val[3],val[3].replace('[라벨]소_bbox','label/소_bbox'))\n",
        "    os.rename(val[4],val[4].replace('[라벨]소_keypoints','label/소_keypoints'))\n",
        "\n",
        "    os.rename(val[5],val[5].replace('[원천]닭_points','img/닭_points'))\n",
        "    os.rename(val[6],val[6].replace('[원천]돼지_bbox','img/돼지_bbox'))\n",
        "    os.rename(val[7],val[7].replace('[원천]돼지_keypoints','img/돼지_keypoints'))\n",
        "    os.rename(val[8],val[8].replace('[원천]소_bbox','img/소_bbox'))\n",
        "    os.rename(val[9],val[9].replace('[원천]소_keypoints','img/소_keypoints'))\n",
        "except Exception as e:\n",
        "    print(e)"
      ],
      "metadata": {
        "id": "MD9WAotuOewE"
      },
      "execution_count": 16,
      "outputs": []
    },
    {
      "cell_type": "code",
      "source": [
        "with zipfile.ZipFile('/content/drive/MyDrive/Innopolis_spark/data/Raw_data/가축 행동 영상/pig_model_data_generator.zip','r') as zip_ref:\n",
        "    zip_ref.extractall('/content/drive/MyDrive/Innopolis_spark/pyfile')"
      ],
      "metadata": {
        "id": "VJKKtIvsPw0T"
      },
      "execution_count": 17,
      "outputs": []
    },
    {
      "cell_type": "code",
      "source": [
        ""
      ],
      "metadata": {
        "id": "NZEHHUps3N4m"
      },
      "execution_count": null,
      "outputs": []
    }
  ]
}