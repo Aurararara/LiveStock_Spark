{
  "nbformat": 4,
  "nbformat_minor": 0,
  "metadata": {
    "colab": {
      "name": "Preprocessing.ipynb",
      "provenance": [],
      "collapsed_sections": [],
      "machine_shape": "hm",
      "mount_file_id": "18rPNasctzXCVCoX7qJR88dx4SeKywKrO",
      "authorship_tag": "ABX9TyP+SHvLTL2HcdnH5bAXqUvR",
      "include_colab_link": true
    },
    "kernelspec": {
      "name": "python3",
      "display_name": "Python 3"
    },
    "language_info": {
      "name": "python"
    },
    "accelerator": "GPU"
  },
  "cells": [
    {
      "cell_type": "markdown",
      "metadata": {
        "id": "view-in-github",
        "colab_type": "text"
      },
      "source": [
        "<a href=\"https://colab.research.google.com/github/kikiru328/LiveStock_Spark/blob/main/Preprocessing.ipynb\" target=\"_parent\"><img src=\"https://colab.research.google.com/assets/colab-badge.svg\" alt=\"Open In Colab\"/></a>"
      ]
    },
    {
      "cell_type": "code",
      "execution_count": 18,
      "metadata": {
        "id": "guB4dvwfMaQt"
      },
      "outputs": [],
      "source": [
        "import os\n",
        "from glob import glob\n",
        "import json\n",
        "from tqdm import tqdm\n",
        "\n",
        "import pandas as pd\n",
        "import numpy as np\n",
        "import seaborn as sns\n",
        "import matplotlib.pyplot as plt\n",
        "from PIL import Image\n",
        "import cv2"
      ]
    },
    {
      "cell_type": "code",
      "source": [
        "json_path = '/content/drive/MyDrive/Innopolis_spark/data/train/label/소_bbox'\n",
        "labels = glob(json_path + '/*.json')\n",
        "print(labels[0])\n",
        "\n",
        "imgs = '/content/drive/MyDrive/Innopolis_spark/data/train/img/소_bbox/livestock_cow_bbox_012159.jpg'\n",
        "print(imgs)"
      ],
      "metadata": {
        "colab": {
          "base_uri": "https://localhost:8080/"
        },
        "id": "kVEyWuYwMti5",
        "outputId": "ced1fc13-d4a5-4d66-bf88-df2319c7f7ba"
      },
      "execution_count": 121,
      "outputs": [
        {
          "output_type": "stream",
          "name": "stdout",
          "text": [
            "/content/drive/MyDrive/Innopolis_spark/data/train/label/소_bbox/livestock_cow_bbox_012159.json\n",
            "/content/drive/MyDrive/Innopolis_spark/data/train/img/소_bbox/livestock_cow_bbox_012159.jpg\n"
          ]
        }
      ]
    },
    {
      "cell_type": "code",
      "source": [
        "with open(labels[0],'r') as json_file:\n",
        "    test_j = json.load(json_file)"
      ],
      "metadata": {
        "id": "uG9974_QNj8x"
      },
      "execution_count": 5,
      "outputs": []
    },
    {
      "cell_type": "code",
      "source": [
        "len(test_j['label_info']['annotations'])\n",
        "test_j['label_info']['annotations']"
      ],
      "metadata": {
        "colab": {
          "base_uri": "https://localhost:8080/"
        },
        "id": "BbGgw9XLN4ox",
        "outputId": "afb4e8f4-ba96-467e-a39e-0b68a0e9589b"
      },
      "execution_count": 6,
      "outputs": [
        {
          "output_type": "execute_result",
          "data": {
            "text/plain": [
              "[{'bbox': [1143, 486, 1319, 681], 'category_id': 1},\n",
              " {'bbox': [1241, 372, 1455, 541], 'category_id': 1},\n",
              " {'bbox': [1694, 484, 1911, 673], 'category_id': 1},\n",
              " {'bbox': [621, 418, 894, 595], 'category_id': 1},\n",
              " {'bbox': [528, 431, 653, 629], 'category_id': 1}]"
            ]
          },
          "metadata": {},
          "execution_count": 6
        }
      ]
    },
    {
      "cell_type": "code",
      "source": [
        "bboxs = []\n",
        "for i in tqdm(range(len(test_j['label_info']['annotations']))):\n",
        "    bboxs.append(test_j['label_info']['annotations'][i]['bbox'])\n",
        "    "
      ],
      "metadata": {
        "colab": {
          "base_uri": "https://localhost:8080/"
        },
        "id": "ES-P3n_-ORWp",
        "outputId": "3fbc1540-d38b-41f6-c49e-cf1688ea93e3"
      },
      "execution_count": 7,
      "outputs": [
        {
          "output_type": "stream",
          "name": "stderr",
          "text": [
            "100%|██████████| 5/5 [00:00<00:00, 54189.97it/s]\n"
          ]
        }
      ]
    },
    {
      "cell_type": "code",
      "source": [
        "bboxs"
      ],
      "metadata": {
        "colab": {
          "base_uri": "https://localhost:8080/"
        },
        "id": "JhjjCYkFPcx8",
        "outputId": "fa8468e4-86b3-403a-e3ea-88c5b2b6b9c8"
      },
      "execution_count": 8,
      "outputs": [
        {
          "output_type": "execute_result",
          "data": {
            "text/plain": [
              "[[1143, 486, 1319, 681],\n",
              " [1241, 372, 1455, 541],\n",
              " [1694, 484, 1911, 673],\n",
              " [621, 418, 894, 595],\n",
              " [528, 431, 653, 629]]"
            ]
          },
          "metadata": {},
          "execution_count": 8
        }
      ]
    },
    {
      "cell_type": "code",
      "source": [
        "L = [labels[0]]\n",
        "I = [imgs]"
      ],
      "metadata": {
        "id": "NPVKkZ87dpua"
      },
      "execution_count": 147,
      "outputs": []
    },
    {
      "cell_type": "code",
      "source": [
        "def rv_background(image,label):\n",
        "    for im,lab in tqdm(zip(image, label)):\n",
        "\n",
        "        img_ = cv2.imread(im)\n",
        "        img = cv2.cvtColor(img_, cv2.COLOR_BGR2RGB)\n",
        "\n",
        "        zero_img = np.zeros((img.shape[:2]),np.uint8)\n",
        "        with open(lab,'r') as json_file:\n",
        "            test_j = json.load(json_file)\n",
        "            coords = test_j['label_info']['annotations']\n",
        "            Bbox = []\n",
        "            for i in range(len(coords)):\n",
        "                Bbox.append(coords[i]['bbox'])\n",
        "\n",
        "        for i in range(len(Bbox)):\n",
        "            f_point = Bbox[i][0], Bbox[i][1]\n",
        "            s_point = Bbox[i][2], Bbox[i][3]\n",
        "            mask = cv2.rectangle(zero_img, f_point, s_point, (255,0,0) ,-1)\n",
        "\n",
        "        result = cv2.bitwise_and(img,img,mask=mask)\n",
        "        return result"
      ],
      "metadata": {
        "id": "jN8tex_Kc03S"
      },
      "execution_count": 155,
      "outputs": []
    },
    {
      "cell_type": "code",
      "source": [
        "plt.imshow(rv_background(I,L))"
      ],
      "metadata": {
        "colab": {
          "base_uri": "https://localhost:8080/",
          "height": 274
        },
        "id": "7PSwFKeYWKi4",
        "outputId": "86cfc9f7-6a3b-4444-8b9a-9b69f034f4d2"
      },
      "execution_count": 206,
      "outputs": [
        {
          "output_type": "stream",
          "name": "stderr",
          "text": [
            "0it [00:00, ?it/s]\n"
          ]
        },
        {
          "output_type": "execute_result",
          "data": {
            "text/plain": [
              "<matplotlib.image.AxesImage at 0x7fb03529eb10>"
            ]
          },
          "metadata": {},
          "execution_count": 206
        },
        {
          "output_type": "display_data",
          "data": {
            "image/png": "[encoded data removed]",
            "text/plain": [
              "<Figure size 432x288 with 1 Axes>"
            ]
          },
          "metadata": {
            "needs_background": "light"
          }
        }
      ]
    },
    {
      "cell_type": "code",
      "source": [
        "def extraction_crop(image,label,folder,animal):\n",
        "    for im,lab in tqdm(zip(image,label)):\n",
        "        img = Image.open(im)\n",
        "\n",
        "    with open(lab,'r') as json_file:\n",
        "        test_j = json.load(json_file)\n",
        "        coords = test_j['label_info']['annotations']\n",
        "        Bbox = []\n",
        "        for i in range(len(coords)):\n",
        "            Bbox.append(coords[i]['bbox'])\n",
        "\n",
        "    for i in range(len(Bbox)):\n",
        "        crop_img = img.crop((Bbox[i][0],Bbox[i][1],Bbox[i][2],Bbox[i][3]))\n",
        "        crop_img.save(f'{folder}/{animal}/{i}.jpg')\n",
        "\n",
        "    return crop_img\n"
      ],
      "metadata": {
        "id": "DQ-cZoU9YXNP"
      },
      "execution_count": 204,
      "outputs": []
    },
    {
      "cell_type": "code",
      "source": [
        "extraction_crop(I,L,'/content/train','cow')"
      ],
      "metadata": {
        "colab": {
          "base_uri": "https://localhost:8080/",
          "height": 232
        },
        "id": "28JZ3hTeltBg",
        "outputId": "5a3c5ad9-b1c0-4113-bd0a-b4c6a68901ac"
      },
      "execution_count": 205,
      "outputs": [
        {
          "output_type": "stream",
          "name": "stderr",
          "text": [
            "1it [00:00, 382.03it/s]\n"
          ]
        },
        {
          "output_type": "execute_result",
          "data": {
            "image/png": "[encoded data removed]",
            "text/plain": [
              "<PIL.Image.Image image mode=RGB size=125x198 at 0x7FB0357D8450>"
            ]
          },
          "metadata": {},
          "execution_count": 205
        }
      ]
    },
    {
      "cell_type": "code",
      "source": [
        ""
      ],
      "metadata": {
        "id": "30BYTqjsqM7T"
      },
      "execution_count": null,
      "outputs": []
    },
    {
      "cell_type": "code",
      "source": [
        "train_imgs = os.listdir('/content/drive/MyDrive/Innopolis_spark/chl/train/data/train/images')\n",
        "test_imgs = os.listdir('/content/drive/MyDrive/Innopolis_spark/chl/train/data/test/images')\n",
        "val_imgs = os.listdir('/content/drive/MyDrive/Innopolis_spark/chl/train/data/val/images')"
      ],
      "metadata": {
        "id": "Y_prUro2qN8Z"
      },
      "execution_count": 231,
      "outputs": []
    },
    {
      "cell_type": "code",
      "source": [
        "train_labels = os.listdir('/content/drive/MyDrive/Innopolis_spark/chl/train/data/train/labels')\n",
        "test_labels = os.listdir('/content/drive/MyDrive/Innopolis_spark/chl/train/data/test/labels')\n",
        "val_labels = os.listdir('/content/drive/MyDrive/Innopolis_spark/chl/train/data/val/labels')"
      ],
      "metadata": {
        "id": "VrOggdRDqwzO"
      },
      "execution_count": 250,
      "outputs": []
    },
    {
      "cell_type": "code",
      "source": [
        "org_train_pig_label = glob('/content/drive/MyDrive/Innopolis_spark/data/train/label/돼지_bbox/*.json')\n",
        "org_train_cow_label = glob('/content/drive/MyDrive/Innopolis_spark/data/train/label/소_bbox/*.json')\n",
        "\n",
        "org_val_pig_label = glob('/content/drive/MyDrive/Innopolis_spark/data/val/label/돼지_bbox/*.json')\n",
        "org_val_cow_label = glob('/content/drive/MyDrive/Innopolis_spark/data/val/label/소_bbox/*.json')"
      ],
      "metadata": {
        "id": "blz_rV8Dq_6E"
      },
      "execution_count": 254,
      "outputs": []
    },
    {
      "cell_type": "code",
      "source": [
        "train_labels_json = []\n",
        "test_labels_json = []\n",
        "val_labels_json = []\n",
        "for i in tqdm(train_labels):\n",
        "    train_labels_json.append(i.replace('txt','json'))\n",
        "\n",
        "for i in tqdm(test_labels):\n",
        "    test_labels_json.append(i.replace('txt','json'))\n",
        "    \n",
        "for i in tqdm(val_labels):\n",
        "    val_labels_json.append(i.replace('txt','json'))"
      ],
      "metadata": {
        "colab": {
          "base_uri": "https://localhost:8080/"
        },
        "id": "hQ61dPlMsda_",
        "outputId": "1f90a43f-3915-4da9-a9ce-0b368d79ca84"
      },
      "execution_count": 253,
      "outputs": [
        {
          "output_type": "stream",
          "name": "stderr",
          "text": [
            "\n",
            "100%|██████████| 13163/13163 [00:00<00:00, 732300.82it/s]\n",
            "\n",
            "100%|██████████| 2058/2058 [00:00<00:00, 774298.32it/s]\n",
            "\n",
            "100%|██████████| 3291/3291 [00:00<00:00, 664778.20it/s]\n"
          ]
        }
      ]
    },
    {
      "cell_type": "code",
      "source": [
        "train = []\n",
        "test = []\n",
        "val = []\n",
        "error = []\n",
        "\n",
        "total = [org_train_pig_label,org_train_cow_label,org_val_pig_label,org_val_cow_label]\n",
        "for folder in tqdm(total):\n",
        "    for i in folder:\n",
        "        try:\n",
        "            A = i.replace('json','txt')\n",
        "            if A in train_labels:\n",
        "                train.append(i)\n",
        "            elif A in test_labels:\n",
        "                test.append(i)\n",
        "            else:\n",
        "                val.append(i)\n",
        "        except Exception as e:\n",
        "            print(e)\n",
        "            error.append(i)"
      ],
      "metadata": {
        "id": "MYYM_hDrvBOf"
      },
      "execution_count": null,
      "outputs": []
    },
    {
      "cell_type": "code",
      "source": [
        "org_train_pig_label[0]"
      ],
      "metadata": {
        "colab": {
          "base_uri": "https://localhost:8080/",
          "height": 34
        },
        "id": "x9fL17mrwk5g",
        "outputId": "c0670810-f8ad-4bc1-b5f3-0a7b54b3ad27"
      },
      "execution_count": 256,
      "outputs": [
        {
          "output_type": "execute_result",
          "data": {
            "application/vnd.google.colaboratory.intrinsic+json": {
              "type": "string"
            },
            "text/plain": [
              "'/content/drive/MyDrive/Innopolis_spark/data/train/label/돼지_bbox/livestock_pig_bbox_000001.json'"
            ]
          },
          "metadata": {},
          "execution_count": 256
        }
      ]
    },
    {
      "cell_type": "code",
      "source": [
        "train_labels_json[0]"
      ],
      "metadata": {
        "colab": {
          "base_uri": "https://localhost:8080/",
          "height": 34
        },
        "id": "6XK7ftoJwlqB",
        "outputId": "a6a98ed9-ae7a-44e9-bb03-01c6ea85c252"
      },
      "execution_count": 257,
      "outputs": [
        {
          "output_type": "execute_result",
          "data": {
            "application/vnd.google.colaboratory.intrinsic+json": {
              "type": "string"
            },
            "text/plain": [
              "'livestock_cow_bbox_010243.json'"
            ]
          },
          "metadata": {},
          "execution_count": 257
        }
      ]
    },
    {
      "cell_type": "code",
      "source": [
        "tr = []\n",
        "if 'cow' in train_labels_json[0]:\n",
        "    print('cow')\n",
        "else:\n",
        "    print('no')"
      ],
      "metadata": {
        "colab": {
          "base_uri": "https://localhost:8080/"
        },
        "id": "TxnilUPEwoKp",
        "outputId": "7d032cdc-b5d4-4d80-aed2-7d345b512af2"
      },
      "execution_count": 258,
      "outputs": [
        {
          "output_type": "stream",
          "name": "stdout",
          "text": [
            "cow\n"
          ]
        }
      ]
    },
    {
      "cell_type": "code",
      "source": [
        "if '돼지' in org_train_pig_label[0]:\n",
        "    print('돼지')\n",
        "else:\n",
        "    print('no')"
      ],
      "metadata": {
        "colab": {
          "base_uri": "https://localhost:8080/"
        },
        "id": "aLxRO3hbw1FG",
        "outputId": "9fcb9e32-88b1-4109-9a31-376c7b854df4"
      },
      "execution_count": 260,
      "outputs": [
        {
          "output_type": "stream",
          "name": "stdout",
          "text": [
            "돼지\n"
          ]
        }
      ]
    },
    {
      "cell_type": "code",
      "source": [
        "for i in folder:\n",
        "    try:\n",
        "        if i in org_train_pig_label:\n",
        "            "
      ],
      "metadata": {
        "id": "tsy5Dbr-w99u"
      },
      "execution_count": null,
      "outputs": []
    }
  ]
}